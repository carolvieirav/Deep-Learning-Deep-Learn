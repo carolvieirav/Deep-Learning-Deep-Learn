{
  "nbformat": 4,
  "nbformat_minor": 0,
  "metadata": {
    "colab": {
      "name": "DeepLearn Basics.ipynb",
      "provenance": [],
      "authorship_tag": "ABX9TyNbVZouw6UjLCIcdjRCwnKP",
      "include_colab_link": true
    },
    "kernelspec": {
      "name": "python3",
      "display_name": "Python 3"
    },
    "language_info": {
      "name": "python"
    }
  },
  "cells": [
    {
      "cell_type": "markdown",
      "metadata": {
        "id": "view-in-github",
        "colab_type": "text"
      },
      "source": [
        "<a href=\"https://colab.research.google.com/github/carolvieirav/Deep-Learning-Deep-Learn/blob/main/DeepLearn_Basics.ipynb\" target=\"_parent\"><img src=\"https://colab.research.google.com/assets/colab-badge.svg\" alt=\"Open In Colab\"/></a>"
      ]
    },
    {
      "cell_type": "markdown",
      "metadata": {
        "id": "R0qRR788Ezg3"
      },
      "source": [
        "## Importar Tensorflow e importar Dataset do Mnist"
      ]
    },
    {
      "cell_type": "code",
      "metadata": {
        "id": "lYugBtVPFVPx"
      },
      "source": [
        "import tensorflow as tf\n",
        "\n",
        "mnist = tf.keras.datasets.mnist # 28x28 images of hand-written digits 0-9\n",
        "\n",
        "(x_train, y_train), (x_test,y_test) = mnist.load_data()\n"
      ],
      "execution_count": 1,
      "outputs": []
    },
    {
      "cell_type": "markdown",
      "metadata": {
        "id": "K01TWhG0P7z2"
      },
      "source": [
        "Após importar dados para uma Rede Neural é necessário normalizar esses dados."
      ]
    },
    {
      "cell_type": "code",
      "metadata": {
        "id": "0ZzuBlRCNxHy"
      },
      "source": [
        "x_train = tf.keras.utils.normalize(x_train, axis=1)\n",
        "x_test = tf.keras.utils.normalize(x_test, axis=1)"
      ],
      "execution_count": 2,
      "outputs": []
    },
    {
      "cell_type": "markdown",
      "metadata": {
        "id": "YLpO-f59RIJO"
      },
      "source": [
        "## Construção do Modelo\n",
        "\n"
      ]
    },
    {
      "cell_type": "markdown",
      "metadata": {
        "id": "BAA-IBW2T3h_"
      },
      "source": [
        "Primeira camada é de imput do modelo"
      ]
    },
    {
      "cell_type": "code",
      "metadata": {
        "id": "8SjD8hP5RFId"
      },
      "source": [
        "model = tf.keras.models.Sequential()# Modelo sequencial feedfoward\n",
        "model.add(tf.keras.layers.Flatten())"
      ],
      "execution_count": 7,
      "outputs": []
    },
    {
      "cell_type": "markdown",
      "metadata": {
        "id": "36GksETTUZnU"
      },
      "source": [
        "Camadas escondidas:"
      ]
    },
    {
      "cell_type": "code",
      "metadata": {
        "id": "q1gSoKtvTQpC"
      },
      "source": [
        "model.add(tf.keras.layers.Dense(128, activation=tf.nn.relu)) \n",
        "model.add(tf.keras.layers.Dense(128, activation=tf.nn.relu))\n",
        "# Parâmetros dentro da camada 'Dense': Número de unidades dentro da camada\n",
        "# e afunção de ativação. default = relu."
      ],
      "execution_count": 10,
      "outputs": []
    },
    {
      "cell_type": "markdown",
      "metadata": {
        "id": "Q5s2U_6SUzfL"
      },
      "source": [
        "Camada de Output"
      ]
    },
    {
      "cell_type": "code",
      "metadata": {
        "id": "hNlcH-aDU2uV"
      },
      "source": [
        "model.add(tf.keras.layers.Dense(10, activation=tf.nn.softmax))\n",
        "# essa camada é uma distribuição de probabilidade\n",
        "# a função de ativação default pra esse caso é Sofmax"
      ],
      "execution_count": 11,
      "outputs": []
    },
    {
      "cell_type": "markdown",
      "metadata": {
        "id": "LpAsaM7qVxVp"
      },
      "source": [
        "## Parâmetros para Treinar o Modelo"
      ]
    },
    {
      "cell_type": "code",
      "metadata": {
        "id": "ElwE32aXVt7t"
      },
      "source": [
        "model.compile(optimizer='adam', # default optimazer\n",
        "              loss='sparse_categorical_crossentropy', # mais popular\n",
        "              metrics=['accuracy'])\n",
        "\n",
        "# uma rede neural visa reduzir a métrica de erro(loss)\n",
        "# em vez de aumentar acurácia"
      ],
      "execution_count": 12,
      "outputs": []
    },
    {
      "cell_type": "markdown",
      "metadata": {
        "id": "K9Qz0wL1YC6I"
      },
      "source": [
        "## Treinar Modelo"
      ]
    },
    {
      "cell_type": "code",
      "metadata": {
        "colab": {
          "base_uri": "https://localhost:8080/"
        },
        "id": "6_vP_6NDYG7G",
        "outputId": "2d16ee26-a01e-4c96-f23c-bbe768fee398"
      },
      "source": [
        "model.fit(x_train, y_train, epochs=3)"
      ],
      "execution_count": 13,
      "outputs": [
        {
          "output_type": "stream",
          "text": [
            "Epoch 1/3\n",
            "1875/1875 [==============================] - 6s 3ms/step - loss: 0.4919 - accuracy: 0.8331\n",
            "Epoch 2/3\n",
            "1875/1875 [==============================] - 5s 3ms/step - loss: 0.1309 - accuracy: 0.9625\n",
            "Epoch 3/3\n",
            "1875/1875 [==============================] - 5s 3ms/step - loss: 0.0902 - accuracy: 0.9746\n"
          ],
          "name": "stdout"
        },
        {
          "output_type": "execute_result",
          "data": {
            "text/plain": [
              "<tensorflow.python.keras.callbacks.History at 0x7f1c48b331d0>"
            ]
          },
          "metadata": {
            "tags": []
          },
          "execution_count": 13
        }
      ]
    },
    {
      "cell_type": "markdown",
      "metadata": {
        "id": "LDTjD1dIY6jj"
      },
      "source": [
        "## Calcular o Erro e Acurácia"
      ]
    },
    {
      "cell_type": "code",
      "metadata": {
        "colab": {
          "base_uri": "https://localhost:8080/"
        },
        "id": "TveARBXmY_kx",
        "outputId": "c5b4c0ea-a2e2-496f-eb9b-da87bd598d0f"
      },
      "source": [
        "val_loss, val_acc = model.evaluate(x_test,y_test)\n",
        "print(val_loss,val_acc)"
      ],
      "execution_count": 14,
      "outputs": [
        {
          "output_type": "stream",
          "text": [
            "313/313 [==============================] - 1s 1ms/step - loss: 0.1178 - accuracy: 0.9663\n",
            "0.1178470104932785 0.9663000106811523\n"
          ],
          "name": "stdout"
        }
      ]
    },
    {
      "cell_type": "markdown",
      "metadata": {
        "id": "D3Mr0PTnZihy"
      },
      "source": [
        "## Salvar"
      ]
    },
    {
      "cell_type": "code",
      "metadata": {
        "colab": {
          "base_uri": "https://localhost:8080/"
        },
        "id": "Tiw3SOICZkhB",
        "outputId": "ce77f1d0-91ad-4a34-a82c-07c89909dc08"
      },
      "source": [
        "model.save('epic_num_reade.model')"
      ],
      "execution_count": 15,
      "outputs": [
        {
          "output_type": "stream",
          "text": [
            "INFO:tensorflow:Assets written to: epic_num_reade.model/assets\n"
          ],
          "name": "stdout"
        }
      ]
    },
    {
      "cell_type": "code",
      "metadata": {
        "id": "jVBvdNQMZqLu"
      },
      "source": [
        "new_model =  tf.keras.models.load_model(\"epic_num_reade.model\") #ler o modelo"
      ],
      "execution_count": 17,
      "outputs": []
    },
    {
      "cell_type": "code",
      "metadata": {
        "id": "a9yaS5uFZ6c2"
      },
      "source": [
        "PREDICTIONS =  new_model.predict([x_test])"
      ],
      "execution_count": 18,
      "outputs": []
    },
    {
      "cell_type": "code",
      "metadata": {
        "colab": {
          "base_uri": "https://localhost:8080/"
        },
        "id": "ZF4LfltpaIp9",
        "outputId": "7a3aabee-3a7a-4555-e32a-561f5b1c560e"
      },
      "source": [
        "import numpy as np\n",
        "import matplotlib.pyplot as plt\n",
        "\n",
        "print(np.argmax(PREDICTIONS[0]))"
      ],
      "execution_count": 23,
      "outputs": [
        {
          "output_type": "stream",
          "text": [
            "7\n"
          ],
          "name": "stdout"
        }
      ]
    },
    {
      "cell_type": "code",
      "metadata": {
        "colab": {
          "base_uri": "https://localhost:8080/",
          "height": 283
        },
        "id": "j1wUqnk6aVtm",
        "outputId": "54522e8c-61ab-448c-a1e1-614419a0c848"
      },
      "source": [
        "plt.imshow(x_test[0])\n",
        "plt.show\n",
        "#visualizar "
      ],
      "execution_count": 24,
      "outputs": [
        {
          "output_type": "execute_result",
          "data": {
            "text/plain": [
              "<function matplotlib.pyplot.show>"
            ]
          },
          "metadata": {
            "tags": []
          },
          "execution_count": 24
        },
        {
          "output_type": "display_data",
          "data": {
            "image/png": "[encoded data removed]",
            "text/plain": [
              "<Figure size 432x288 with 1 Axes>"
            ]
          },
          "metadata": {
            "tags": [],
            "needs_background": "light"
          }
        }
      ]
    },
    {
      "cell_type": "code",
      "metadata": {
        "id": "u9bbxIKpabmp"
      },
      "source": [
        ""
      ],
      "execution_count": null,
      "outputs": []
    }
  ]
}
